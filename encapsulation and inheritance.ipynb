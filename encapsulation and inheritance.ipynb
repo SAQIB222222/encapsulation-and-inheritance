{
 "cells": [
  {
   "cell_type": "markdown",
   "id": "fa571d5e-1ee4-4dd7-bf89-9e7d3b182581",
   "metadata": {},
   "source": [
    "Q1. Abstraction in OOPs refers to the process of hiding complex implementation details from the user and presenting only the essential features or functionalities of an object. Abstraction helps in simplifying the code, reducing its complexity, and making it easier to understand and maintain.\n",
    "\n",
    "For example, consider a car. A car has many complex internal parts like an engine, transmission, etc. But for a driver, all that is essential is the ability to start the car, steer it, and control its speed. Therefore, a car's dashboard provides only the essential information to the driver, such as speed, fuel level, and warning lights, while hiding the complex details of how the car's internal parts work.\n",
    "\n"
   ]
  },
  {
   "cell_type": "markdown",
   "id": "a2ea2536-6d01-40b4-8ed8-08999f028c73",
   "metadata": {},
   "source": [
    "Q2. Abstraction and Encapsulation are two fundamental concepts of Object-Oriented Programming, but they are not the same.\n",
    "\n",
    "Abstraction is the process of hiding complex implementation details from the user and presenting only the essential features or functionalities of an object. Abstraction is achieved using abstract classes and interfaces.\n",
    "\n",
    "Encapsulation is the process of wrapping data and code into a single unit, and controlling access to that unit using access modifiers such as public, private, and protected. Encapsulation is achieved using classes and objects.\n",
    "\n",
    "An example of Abstraction is an abstract class called \"Shape,\" which has two abstract methods, \"area()\" and \"perimeter().\" This class can be used to represent any shape, such as a square, rectangle, or triangle, without specifying its implementation details.\n",
    "\n",
    "An example of Encapsulation is a class called \"BankAccount,\" which has private member variables such as \"balance\" and \"accountNumber,\" and public methods such as \"deposit()\" and \"withdraw().\" The private member variables can only be accessed using the public methods, which ensures that the data is not directly accessible from outside the class.\n",
    "\n"
   ]
  },
  {
   "cell_type": "markdown",
   "id": "e797ee85-b0f4-40ae-8331-00ead2c6edbf",
   "metadata": {},
   "source": [
    "Q3. The abc module in Python stands for Abstract Base Classes. It provides a way to define abstract classes in Python, which are classes that cannot be instantiated directly and must be subclassed to provide their implementation. Abstract base classes are useful for creating a common interface that multiple subclasses can implement, ensuring that they all have the same set of methods and attributes.\n",
    "\n",
    "The abc module provides a metaclass called ABCMeta, which is used to create abstract base classes. To create an abstract base class, you need to inherit from ABCMeta and decorate the methods that you want to make abstract using the \"@abstractmethod\" decorator.\n",
    "\n",
    "The abc module is used to ensure that certain methods or attributes are present in all subclasses of a particular class, without specifying their implementation details. This makes it easier to maintain and extend the codebase, as any changes made to the abstract base class will automatically be inherited by all its subclasses."
   ]
  },
  {
   "cell_type": "markdown",
   "id": "e380e192-d015-46de-84db-399cc49fd572",
   "metadata": {},
   "source": [
    "Q4. We can achieve data abstraction in object-oriented programming by using abstract classes and interfaces. Abstract classes define a common interface for a set of subclasses, without specifying their implementation details. They can have both abstract and non-abstract methods. Abstract methods are declared without an implementation and must be implemented by the subclasses.\n",
    "\n",
    "Interfaces are similar to abstract classes, but they can only have abstract methods and cannot contain any implementation details. Interfaces define a contract that all implementing classes must follow, ensuring that they all have the same set of methods and attributes."
   ]
  },
  {
   "cell_type": "code",
   "execution_count": null,
   "id": "5c0124d8-25d9-461e-a472-1eb55f123b15",
   "metadata": {},
   "outputs": [],
   "source": []
  }
 ],
 "metadata": {
  "kernelspec": {
   "display_name": "Python 3 (ipykernel)",
   "language": "python",
   "name": "python3"
  },
  "language_info": {
   "codemirror_mode": {
    "name": "ipython",
    "version": 3
   },
   "file_extension": ".py",
   "mimetype": "text/x-python",
   "name": "python",
   "nbconvert_exporter": "python",
   "pygments_lexer": "ipython3",
   "version": "3.10.8"
  }
 },
 "nbformat": 4,
 "nbformat_minor": 5
}
